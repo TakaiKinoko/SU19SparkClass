{
 "cells": [
  {
   "cell_type": "markdown",
   "metadata": {},
   "source": [
    "## CSCI-GA.3033-001: Big Data Application Development\n",
    "* Team Project Code\n",
    "* Cody Gilbert, Fang Han, Jeremy Lao\n",
    "\n",
    "* @author: Fang Han"
   ]
  },
  {
   "cell_type": "code",
   "execution_count": 1,
   "metadata": {},
   "outputs": [],
   "source": [
    "import pandas as pd\n",
    "import plotly\n",
    "import plotly.graph_objs as go\n",
    "import plotly.offline as offline\n",
    "from plotly.graph_objs import *\n",
    "from plotly.offline import download_plotlyjs, init_notebook_mode, plot, iplot\n"
   ]
  },
  {
   "cell_type": "code",
   "execution_count": 3,
   "metadata": {},
   "outputs": [],
   "source": [
    "df = pd.read_csv('../data/denial_overall_jl.csv')\n",
    "\n",
    "### colorscale:    \n",
    "scl = [[0.0, '#ffffff'],[0.05, '#b4a8ce'],[0.10, '#8573a9'],\n",
    "       [0.15, '#7159a3'],[0.20, '#5732a1'],[0.30, '#2c0579']] # reds\n",
    "\n",
    "### create empty list for slider:    \n",
    "slider = []"
   ]
  },
  {
   "cell_type": "code",
   "execution_count": 4,
   "metadata": {},
   "outputs": [
    {
     "name": "stderr",
     "output_type": "stream",
     "text": [
      "/Users/fanghan/anaconda3/lib/python3.7/site-packages/ipykernel_launcher.py:7: SettingWithCopyWarning:\n",
      "\n",
      "\n",
      "A value is trying to be set on a copy of a slice from a DataFrame.\n",
      "Try using .loc[row_indexer,col_indexer] = value instead\n",
      "\n",
      "See the caveats in the documentation: http://pandas.pydata.org/pandas-docs/stable/indexing.html#indexing-view-versus-copy\n",
      "\n"
     ]
    }
   ],
   "source": [
    "#### populate the data object\n",
    "for year in df.year.unique():\n",
    "    yearly_denial_rate = df[(df['year']== year)]\n",
    "    \n",
    "    \n",
    "    for col in yearly_denial_rate.columns:  # transform the columns into string type so I can:\n",
    "        yearly_denial_rate[col] = yearly_denial_rate[col].astype(str)\n",
    "    \n",
    "    ### create the dictionary with the data for the current year\n",
    "    data_one_year = dict(\n",
    "                        type='choropleth',\n",
    "                        locations = yearly_denial_rate['state'],\n",
    "                        z=yearly_denial_rate['denRate'].astype(float),\n",
    "                        locationmode='USA-states',\n",
    "                        colorscale = scl,\n",
    "                        )\n",
    "    \n",
    "    slider.append(data_one_year)  # add the dictionary to the list of dictionaries for the slider\n",
    "    \n"
   ]
  },
  {
   "cell_type": "code",
   "execution_count": 5,
   "metadata": {},
   "outputs": [
    {
     "ename": "IndexError",
     "evalue": "list assignment index out of range",
     "output_type": "error",
     "traceback": [
      "\u001b[0;31m---------------------------------------------------------------------------\u001b[0m",
      "\u001b[0;31mIndexError\u001b[0m                                Traceback (most recent call last)",
      "\u001b[0;32m<ipython-input-5-d9777a2954ab>\u001b[0m in \u001b[0;36m<module>\u001b[0;34m\u001b[0m\n\u001b[1;32m      7\u001b[0m                 \u001b[0margs\u001b[0m\u001b[0;34m=\u001b[0m\u001b[0;34m[\u001b[0m\u001b[0;34m'visible'\u001b[0m\u001b[0;34m,\u001b[0m \u001b[0;34m[\u001b[0m\u001b[0;32mFalse\u001b[0m\u001b[0;34m]\u001b[0m \u001b[0;34m*\u001b[0m \u001b[0mlen\u001b[0m\u001b[0;34m(\u001b[0m\u001b[0mslider\u001b[0m\u001b[0;34m)\u001b[0m\u001b[0;34m]\u001b[0m\u001b[0;34m,\u001b[0m\u001b[0;34m\u001b[0m\u001b[0;34m\u001b[0m\u001b[0m\n\u001b[1;32m      8\u001b[0m                 label='Year {}'.format(i + 2007)) # label to be displayed for each step (year)\n\u001b[0;32m----> 9\u001b[0;31m     \u001b[0mstep\u001b[0m\u001b[0;34m[\u001b[0m\u001b[0;34m'args'\u001b[0m\u001b[0;34m]\u001b[0m\u001b[0;34m[\u001b[0m\u001b[0;36m1\u001b[0m\u001b[0;34m]\u001b[0m\u001b[0;34m[\u001b[0m\u001b[0mi\u001b[0m\u001b[0;34m]\u001b[0m \u001b[0;34m=\u001b[0m \u001b[0;32mTrue\u001b[0m\u001b[0;34m\u001b[0m\u001b[0;34m\u001b[0m\u001b[0m\n\u001b[0m\u001b[1;32m     10\u001b[0m     \u001b[0msteps\u001b[0m\u001b[0;34m.\u001b[0m\u001b[0mappend\u001b[0m\u001b[0;34m(\u001b[0m\u001b[0mstep\u001b[0m\u001b[0;34m)\u001b[0m\u001b[0;34m\u001b[0m\u001b[0;34m\u001b[0m\u001b[0m\n\u001b[1;32m     11\u001b[0m \u001b[0;34m\u001b[0m\u001b[0m\n",
      "\u001b[0;31mIndexError\u001b[0m: list assignment index out of range"
     ]
    }
   ],
   "source": [
    "##  create the steps for the slider\n",
    "steps = []\n",
    "\n",
    "for i in range(0, 11):\n",
    "    #print(i)\n",
    "    step = dict(method='restyle',\n",
    "                args=['visible', [False] * len(slider)],\n",
    "                label='Year {}'.format(i + 2007)) # label to be displayed for each step (year)\n",
    "    step['args'][1][i] = True\n",
    "    steps.append(step)\n",
    "\n",
    "##  I create the 'sliders' object from the 'steps' \n",
    "sliders = [dict(active=0, pad={\"t\": 1}, steps=steps)]  "
   ]
  },
  {
   "cell_type": "code",
   "execution_count": null,
   "metadata": {},
   "outputs": [],
   "source": [
    "# Set up the layout (including slider option)\n",
    "layout = dict(geo=dict(scope='usa',\n",
    "                       projection={'type': 'albers usa'}),\n",
    "              sliders=sliders)\n",
    "\n",
    "# Create the figure object:\n",
    "fig = dict(data=slider, layout=layout) \n",
    "\n",
    "plotly.offline.iplot(fig)\n",
    "\n",
    "# to plot in a separete browser window\n",
    "offline.plot(fig, auto_open=True, image_filename=\"heatMap_slider\" ,image_width=2000, image_height=1000, \n",
    "              filename='heatMap_slider.html', validate=True)\n"
   ]
  },
  {
   "cell_type": "code",
   "execution_count": null,
   "metadata": {},
   "outputs": [],
   "source": []
  },
  {
   "cell_type": "code",
   "execution_count": null,
   "metadata": {},
   "outputs": [],
   "source": []
  }
 ],
 "metadata": {
  "kernelspec": {
   "display_name": "Python 3",
   "language": "python",
   "name": "python3"
  },
  "language_info": {
   "codemirror_mode": {
    "name": "ipython",
    "version": 3
   },
   "file_extension": ".py",
   "mimetype": "text/x-python",
   "name": "python",
   "nbconvert_exporter": "python",
   "pygments_lexer": "ipython3",
   "version": "3.7.1"
  }
 },
 "nbformat": 4,
 "nbformat_minor": 2
}
